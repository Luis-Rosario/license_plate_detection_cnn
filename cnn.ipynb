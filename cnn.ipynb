{
  "cells": [
    {
      "cell_type": "markdown",
      "metadata": {
        "id": "view-in-github",
        "colab_type": "text"
      },
      "source": [
        "<a href=\"https://colab.research.google.com/github/Luis-Rosario/license_plate_detection_cnn/blob/main/cnn.ipynb\" target=\"_parent\"><img src=\"https://colab.research.google.com/assets/colab-badge.svg\" alt=\"Open In Colab\"/></a>"
      ]
    },
    {
      "cell_type": "code",
      "source": [
        ""
      ],
      "metadata": {
        "id": "7K5t47ghuLTv"
      },
      "execution_count": null,
      "outputs": []
    },
    {
      "cell_type": "markdown",
      "metadata": {
        "id": "yNB09uYFW7cm"
      },
      "source": [
        "# Load chinese license plate tfrecords "
      ]
    },
    {
      "cell_type": "markdown",
      "metadata": {
        "id": "zQalBLQrW7cr"
      },
      "source": [
        "Use tensorflow 2"
      ]
    },
    {
      "cell_type": "code",
      "execution_count": null,
      "metadata": {
        "id": "FdSmtD4ct1z3"
      },
      "outputs": [],
      "source": [
        "%tensorflow_version 2.x\n"
      ]
    },
    {
      "cell_type": "code",
      "execution_count": null,
      "metadata": {
        "colab": {
          "base_uri": "https://localhost:8080/"
        },
        "id": "TFyBN0_Txn7n",
        "outputId": "7677be75-029b-4599-a989-08231e0e6c26"
      },
      "outputs": [
        {
          "output_type": "stream",
          "name": "stdout",
          "text": [
            "2.8.0\n"
          ]
        }
      ],
      "source": [
        "import os\n",
        "import tensorflow as tf\n",
        "#import IPython.display as display\n",
        "\n",
        "print(tf.__version__)\n"
      ]
    },
    {
      "cell_type": "markdown",
      "metadata": {
        "id": "96lXhPlPsx8k"
      },
      "source": [
        "## Import data from Drive"
      ]
    },
    {
      "cell_type": "code",
      "execution_count": null,
      "metadata": {
        "colab": {
          "base_uri": "https://localhost:8080/"
        },
        "id": "zEnfN6iAt6zT",
        "outputId": "daf8e8b9-c980-4fa6-c864-6cf7e2a50e19"
      },
      "outputs": [
        {
          "output_type": "stream",
          "name": "stdout",
          "text": [
            "Mounted at /content/google-drive\n"
          ]
        }
      ],
      "source": [
        "from google.colab import drive\n",
        "drive.mount('/content/google-drive')"
      ]
    },
    {
      "cell_type": "markdown",
      "metadata": {
        "id": "EoXayPGYW7cu"
      },
      "source": [
        "## Copying tfrecords from drive to colab"
      ]
    },
    {
      "cell_type": "code",
      "execution_count": null,
      "metadata": {
        "colab": {
          "base_uri": "https://localhost:8080/"
        },
        "id": "PnWRuxm3vnpv",
        "outputId": "8f548a99-38ca-4dc1-c402-8636087c8fec"
      },
      "outputs": [
        {
          "output_type": "stream",
          "name": "stdout",
          "text": [
            "mkdir: cannot create directory ‘trainData’: File exists\n",
            "cp: cannot stat '/content/google-drive/My Drive/gray2Recs/images_gray_0.tfrecords': Transport endpoint is not connected\n",
            "images_gray_1.tfrecords\n"
          ]
        }
      ],
      "source": [
        "!mkdir trainData\n",
        "#!cp /content/google-drive/'My Drive'/data/images_gray_0.tfrecords ./trainData/\n",
        "!cp /content/google-drive/'My Drive'/gray2Recs/images_gray_0.tfrecords ./trainData/\n",
        "!ls trainData"
      ]
    },
    {
      "cell_type": "code",
      "source": [
        "from google.colab import drive\n",
        "drive.mount('/content/drive')"
      ],
      "metadata": {
        "colab": {
          "base_uri": "https://localhost:8080/"
        },
        "id": "5r-gTjIAY88O",
        "outputId": "1a6f7af1-4f75-4c0e-915d-11db1273b95c"
      },
      "execution_count": null,
      "outputs": [
        {
          "output_type": "stream",
          "name": "stdout",
          "text": [
            "Mounted at /content/drive\n"
          ]
        }
      ]
    },
    {
      "cell_type": "markdown",
      "metadata": {
        "id": "Xw0oSmX1tBGM"
      },
      "source": [
        "## Create tfrecords dataset"
      ]
    },
    {
      "cell_type": "code",
      "execution_count": null,
      "metadata": {
        "id": "7zSfRxebt10C"
      },
      "outputs": [],
      "source": [
        "tfrecordsDir = 'trainData/'\n",
        "trainNumbers = [1]\n",
        "trainfiles = [tfrecordsDir + 'images_gray_'+str(i) + '.tfrecords' for i in trainNumbers]\n",
        "train_raw_image_dataset = tf.data.TFRecordDataset(trainfiles)"
      ]
    },
    {
      "cell_type": "code",
      "execution_count": null,
      "metadata": {
        "id": "s8JfHvXsW7cw"
      },
      "outputs": [],
      "source": [
        "#How many examples are in the tfrecord"
      ]
    },
    {
      "cell_type": "code",
      "execution_count": null,
      "metadata": {
        "colab": {
          "base_uri": "https://localhost:8080/"
        },
        "id": "QYw03J9dtGmv",
        "outputId": "508e0df3-bb94-4fda-86b2-08b83ff70508"
      },
      "outputs": [
        {
          "output_type": "stream",
          "name": "stdout",
          "text": [
            "3333\n"
          ]
        }
      ],
      "source": [
        "count =0\n",
        "for i in train_raw_image_dataset:\n",
        "  count +=1\n",
        "print(count)"
      ]
    },
    {
      "cell_type": "markdown",
      "metadata": {
        "id": "0ZRFhXH3tL9q"
      },
      "source": [
        "## Decode tfrecords"
      ]
    },
    {
      "cell_type": "code",
      "execution_count": null,
      "metadata": {
        "id": "Vvzc61OXt10I"
      },
      "outputs": [],
      "source": [
        "# Create a dictionary describing the features.\n",
        "image_feature_description = {\n",
        "            'chinaprov': tf.io.FixedLenFeature([], tf.int64),\n",
        "            'letter': tf.io.FixedLenFeature([], tf.int64),\n",
        "            'seq0':  tf.io.FixedLenFeature([], tf.int64),\n",
        "            'seq1': tf.io.FixedLenFeature([], tf.int64),\n",
        "            'seq2':  tf.io.FixedLenFeature([], tf.int64),\n",
        "            'seq3': tf.io.FixedLenFeature([], tf.int64),\n",
        "            'seq4':  tf.io.FixedLenFeature([], tf.int64),\n",
        "            'image_raw': tf.io.FixedLenFeature([], tf.string),\n",
        "        }\n"
      ]
    },
    {
      "cell_type": "code",
      "execution_count": null,
      "metadata": {
        "id": "Uqjmu7tIt10N"
      },
      "outputs": [],
      "source": [
        "def _parse_image_function(example_proto):\n",
        "  # Parse the input tf.Example proto using the dictionary above.\n",
        "  return tf.io.parse_single_example(example_proto, image_feature_description)\n"
      ]
    },
    {
      "cell_type": "code",
      "execution_count": null,
      "metadata": {
        "id": "fVm-Izeb0-JM"
      },
      "outputs": [],
      "source": [
        "train_parsed_image_dataset = train_raw_image_dataset.map(_parse_image_function)"
      ]
    },
    {
      "cell_type": "markdown",
      "metadata": {
        "id": "Oj7HZnvqsZ_e"
      },
      "source": [
        "### **look** at one example"
      ]
    },
    {
      "cell_type": "code",
      "execution_count": null,
      "metadata": {
        "colab": {
          "base_uri": "https://localhost:8080/",
          "height": 632
        },
        "id": "mXU_dFJFdQtA",
        "outputId": "f8ce0221-5bfd-4091-c496-480694d63b31"
      },
      "outputs": [
        {
          "output_type": "display_data",
          "data": {
            "text/plain": [
              "<IPython.core.display.Image object>"
            ],
            "image/jpeg": "[encoded data removed]"
          },
          "metadata": {}
        },
        {
          "output_type": "stream",
          "name": "stdout",
          "text": [
            "(580, 360, 1)\n",
            "uint8\n"
          ]
        }
      ],
      "source": [
        "import IPython.display as display\n",
        "it = iter(train_parsed_image_dataset)\n",
        "data_parsed =next(it)\n",
        "image = data_parsed['image_raw'].numpy()\n",
        "display.display(display.Image(data=image))\n",
        "img = tf.image.decode_png(data_parsed['image_raw'])\n",
        "print(img.numpy().shape)\n",
        "print(img.numpy().dtype)"
      ]
    },
    {
      "cell_type": "markdown",
      "metadata": {
        "id": "KsJzQvUTT3DE"
      },
      "source": [
        " ## Create inputs and labels from raw images"
      ]
    },
    {
      "cell_type": "code",
      "execution_count": null,
      "metadata": {
        "id": "7OUVwtkOfFz_"
      },
      "outputs": [],
      "source": [
        "num_chinaprov = 38\n",
        "num_letter = 38\n",
        "num_seq = 38\n",
        "\n",
        "\n",
        "\n",
        "def buildLabels(parsed_data):\n",
        "  chinaprov = parsed_data['chinaprov']\n",
        "  chinaprov_enc = tf.keras.backend.one_hot(chinaprov,num_chinaprov)\n",
        "  letter = parsed_data['letter']\n",
        "  letter_enc = tf.keras.backend.one_hot(letter, num_letter)\n",
        "  seq0 = parsed_data['seq0']\n",
        "  seq0_enc = tf.keras.backend.one_hot(seq0, num_seq)\n",
        "  seq1 = parsed_data['seq1']\n",
        "  seq1_enc = tf.keras.backend.one_hot(seq1, num_seq)\n",
        "  seq2 = parsed_data['seq2']\n",
        "  seq2_enc = tf.keras.backend.one_hot(seq2, num_seq)\n",
        "  seq3 = parsed_data['seq3']\n",
        "  seq3_enc = tf.keras.backend.one_hot(seq3, num_seq)\n",
        "  seq4  = parsed_data['seq4']\n",
        "  seq4_enc = tf.keras.backend.one_hot(seq4, num_seq)\n",
        "  label = tf.stack([chinaprov_enc, letter_enc, seq0_enc, seq1_enc, seq2_enc, seq3_enc, seq4_enc])\n",
        "  return label\n",
        "\n",
        "def buildallLabels(parsed_data):\n",
        "  chinaprov = parsed_data['chinaprov']\n",
        "  chinaprov_enc = tf.keras.backend.one_hot(chinaprov,num_chinaprov)\n",
        "  letter = parsed_data['letter']\n",
        "  letter_enc = tf.keras.backend.one_hot(letter, num_letter)\n",
        "  seq0 = parsed_data['seq0']\n",
        "  seq0_enc = tf.keras.backend.one_hot(seq0, num_seq)\n",
        "  seq1 = parsed_data['seq1']\n",
        "  seq1_enc = tf.keras.backend.one_hot(seq1, num_seq)\n",
        "  seq2 = parsed_data['seq2']\n",
        "  seq2_enc = tf.keras.backend.one_hot(seq2, num_seq)\n",
        "  seq3 = parsed_data['seq3']\n",
        "  seq3_enc = tf.keras.backend.one_hot(seq3, num_seq)\n",
        "  seq4  = parsed_data['seq4']\n",
        "  seq4_enc = tf.keras.backend.one_hot(seq4, num_seq)\n",
        "  label2 = tf.stack([chinaprov_enc, letter_enc, seq0_enc, seq1_enc, seq2_enc, seq3_enc, seq4_enc])\n",
        "  #return (label1, chinaprov_enc) #tf.dtypes.cast(, dtype = tf.float32))\n",
        "  return label2\n",
        "\n",
        "def buildInputsLabels(parsed_data):\n",
        "  img = tf.image.decode_png(parsed_data['image_raw'])\n",
        "  img = tf.dtypes.cast(img, dtype = tf.float32)\n",
        "  labels = buildLabels(parsed_data)   \n",
        "  return   img,  labels"
      ]
    },
    {
      "cell_type": "code",
      "execution_count": null,
      "metadata": {
        "id": "CDX6RnCPUekp"
      },
      "outputs": [],
      "source": [
        "trainDataset = train_parsed_image_dataset.map(buildInputsLabels).shuffle(2000)"
      ]
    },
    {
      "cell_type": "markdown",
      "metadata": {
        "id": "At1aByO_U6aR"
      },
      "source": [
        "### get one example, inputs, label from the dataset"
      ]
    },
    {
      "cell_type": "code",
      "execution_count": null,
      "metadata": {
        "colab": {
          "base_uri": "https://localhost:8080/"
        },
        "id": "yTC4SHaOt7oK",
        "outputId": "30fa661f-f803-4923-f557-a48bda67d59a"
      },
      "outputs": [
        {
          "output_type": "execute_result",
          "data": {
            "text/plain": [
              "TensorShape([7, 38])"
            ]
          },
          "metadata": {},
          "execution_count": 25
        }
      ],
      "source": [
        "newIt = iter(trainDataset)\n",
        "data =next(newIt)\n",
        "data[1].shape\n"
      ]
    }
  ],
  "metadata": {
    "accelerator": "GPU",
    "colab": {
      "collapsed_sections": [],
      "machine_shape": "hm",
      "name": "inspectTfrecord.ipynb",
      "provenance": [],
      "include_colab_link": true
    },
    "kernelspec": {
      "display_name": "Python 3",
      "language": "python",
      "name": "python3"
    },
    "language_info": {
      "codemirror_mode": {
        "name": "ipython",
        "version": 3
      },
      "file_extension": ".py",
      "mimetype": "text/x-python",
      "name": "python",
      "nbconvert_exporter": "python",
      "pygments_lexer": "ipython3",
      "version": "3.7.3"
    }
  },
  "nbformat": 4,
  "nbformat_minor": 0
}